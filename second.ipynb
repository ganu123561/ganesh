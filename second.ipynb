{
  "nbformat": 4,
  "nbformat_minor": 0,
  "metadata": {
    "colab": {
      "provenance": [],
      "authorship_tag": "ABX9TyPo6Tj6DdCrtH4xt+R1Tgdy",
      "include_colab_link": true
    },
    "kernelspec": {
      "name": "python3",
      "display_name": "Python 3"
    },
    "language_info": {
      "name": "python"
    }
  },
  "cells": [
    {
      "cell_type": "markdown",
      "metadata": {
        "id": "view-in-github",
        "colab_type": "text"
      },
      "source": [
        "<a href=\"https://colab.research.google.com/github/ganu123561/ganesh/blob/main/second.ipynb\" target=\"_parent\"><img src=\"https://colab.research.google.com/assets/colab-badge.svg\" alt=\"Open In Colab\"/></a>"
      ]
    },
    {
      "cell_type": "code",
      "execution_count": 1,
      "metadata": {
        "colab": {
          "base_uri": "https://localhost:8080/"
        },
        "id": "agYL9qA6sOhp",
        "outputId": "02146b83-9deb-4d69-ef10-18df194bbaec"
      },
      "outputs": [
        {
          "output_type": "stream",
          "name": "stdout",
          "text": [
            "Hello this is Tensor flow\n"
          ]
        }
      ],
      "source": [
        "import tensorflow as tf\n",
        "hi=tf.constant(\"Hello this is Tensor flow\")\n",
        "print(hi.numpy().decode('utf-8'))"
      ]
    },
    {
      "cell_type": "code",
      "source": [
        "import tensorflow as tf\n",
        "a=tf.constant(10)\n",
        "b=tf.constant(20)\n",
        "#perform on basic operations using tensor framework\n",
        "add=tf.add(a,b)\n",
        "print(\"addition is: {add.numpy()}\")"
      ],
      "metadata": {
        "colab": {
          "base_uri": "https://localhost:8080/"
        },
        "id": "JtT4GYfisXas",
        "outputId": "ff2c8a21-c3de-4b50-ac43-03b00f134707"
      },
      "execution_count": 2,
      "outputs": [
        {
          "output_type": "stream",
          "name": "stdout",
          "text": [
            "addition is: {add.numpy()}\n"
          ]
        }
      ]
    },
    {
      "cell_type": "code",
      "source": [
        "import tensorflow as tf\n",
        "a=tf.constant(10)\n",
        "b=tf.constant(20)\n",
        "#perform on basic operations using tensor framework\n",
        "add=tf.add(a,b)\n",
        "sub=tf.subtract(a,b)\n",
        "mul=tf.multiply(a,b)\n",
        "print(f\"addition is: {add.numpy()}\")\n",
        "print(f\"Subtraction is:{sub.numpy()}\")\n",
        "print(f\"Multiplication is:{mul.numpy()}\")"
      ],
      "metadata": {
        "colab": {
          "base_uri": "https://localhost:8080/"
        },
        "id": "9Ec8DawHtKXW",
        "outputId": "d10ae220-c6c6-4723-97de-d7913a375037"
      },
      "execution_count": 3,
      "outputs": [
        {
          "output_type": "stream",
          "name": "stdout",
          "text": [
            "addition is: 30\n",
            "Subtraction is:-10\n",
            "Multiplication is:200\n"
          ]
        }
      ]
    },
    {
      "cell_type": "code",
      "source": [
        "import tensorflow as tf\n",
        "a=tf.constant(10)\n",
        "b=tf.constant(20)\n",
        "#perform on basic operations using tensor framework\n",
        "add=tf.add(a,b)\n",
        "sub=tf.subtract(a,b)\n",
        "mul=tf.multiply(a,b)\n",
        "div=tf.divide(a,b)\n",
        "print(f\"addition is: {add.numpy()}\")\n",
        "print(f\"Subtraction is:{sub.numpy()}\")\n",
        "print(f\"Multiplication is:{mul.numpy()}\")\n",
        "print(f\"division is:{div.numpy()}\")"
      ],
      "metadata": {
        "colab": {
          "base_uri": "https://localhost:8080/"
        },
        "id": "C1PeRX6et58m",
        "outputId": "d61a3d11-a350-42a4-c873-37f85057e22d"
      },
      "execution_count": 4,
      "outputs": [
        {
          "output_type": "stream",
          "name": "stdout",
          "text": [
            "addition is: 30\n",
            "Subtraction is:-10\n",
            "Multiplication is:200\n",
            "division is:0.5\n"
          ]
        }
      ]
    },
    {
      "cell_type": "code",
      "source": [
        "import tensorflow as tf\n",
        "tensor1=tf.constant([[1,2],[3,4]])\n",
        "tensor2=tf.constant([[5,6],[7,8]])\n",
        "#matrix multiplication using tensor\n",
        "result=tf.matmul(tensor1,tensor2)\n",
        "print(result)"
      ],
      "metadata": {
        "colab": {
          "base_uri": "https://localhost:8080/"
        },
        "id": "ZW6bTxBmuW0q",
        "outputId": "3ea53795-848a-4926-d640-9d6cb1c9440b"
      },
      "execution_count": 5,
      "outputs": [
        {
          "output_type": "stream",
          "name": "stdout",
          "text": [
            "tf.Tensor(\n",
            "[[19 22]\n",
            " [43 50]], shape=(2, 2), dtype=int32)\n"
          ]
        }
      ]
    },
    {
      "cell_type": "code",
      "source": [
        "import tensorflow as tf\n",
        "tensor1=tf.constant([[1,2],[3,4]])\n",
        "tensor2=tf.constant([[5,6],[7,8]])\n",
        "#matrix multiplication using tensor\n",
        "result=tf.matmul(tensor1,tensor2)\n",
        "print(result)"
      ],
      "metadata": {
        "colab": {
          "base_uri": "https://localhost:8080/"
        },
        "id": "Ia_GZzgvvV8b",
        "outputId": "99291d29-3d1e-4b86-b002-155f8e63a8fc"
      },
      "execution_count": 6,
      "outputs": [
        {
          "output_type": "stream",
          "name": "stdout",
          "text": [
            "tf.Tensor(\n",
            "[[19 22]\n",
            " [43 50]], shape=(2, 2), dtype=int32)\n"
          ]
        }
      ]
    },
    {
      "cell_type": "code",
      "source": [
        "import tensorflow as tf\n",
        "import numpy as np\n",
        "#generate sample data like(y=2x)\n",
        "X=np.array([1,2,3,4,5], dtype=np.float32)\n",
        "Y=np.array([2,4,6,8,10], dtype=np.float32)"
      ],
      "metadata": {
        "id": "8Zn2EJlCvpd_"
      },
      "execution_count": 7,
      "outputs": []
    },
    {
      "cell_type": "code",
      "source": [
        "import tensorflow as tf\n",
        "import numpy as np\n",
        "\n",
        "#generate sample data like(y=2x)\n",
        "X=np.array([1,2,3,4,5], dtype=np.float32)\n",
        "Y=np.array([2,4,6,8,10], dtype=np.float32)\n",
        "\n",
        "#define a simple linear model\n",
        "model=tf.keras.Sequential([tf.keras.layers.Dense(units=1, input_shape=[1])])\n",
        "\n",
        "#compile the model with optimizer and loss function\n",
        "model.compile(optimizer='sgd', loss='mean_squared_error')\n",
        "\n",
        "#train the model\n",
        "model.fit(X,Y,epochs=500, verbose=0)\n",
        "\n",
        "#make a prediction\n",
        "new_input=np.array([6], dtype=np.float32)\n",
        "prediction=model.predict(new_input)\n",
        "print(prediction)"
      ],
      "metadata": {
        "colab": {
          "base_uri": "https://localhost:8080/"
        },
        "id": "f6QU0szix2gP",
        "outputId": "9054d3e6-5ba6-4543-f8c1-f77228d068a4"
      },
      "execution_count": 9,
      "outputs": [
        {
          "output_type": "stream",
          "name": "stdout",
          "text": [
            "\u001b[1m1/1\u001b[0m \u001b[32m━━━━━━━━━━━━━━━━━━━━\u001b[0m\u001b[37m\u001b[0m \u001b[1m0s\u001b[0m 54ms/step\n",
            "[[11.905636]]\n"
          ]
        }
      ]
    }
  ]
}